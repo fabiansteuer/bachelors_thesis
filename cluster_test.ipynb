{
 "metadata": {
  "name": ""
 },
 "nbformat": 3,
 "nbformat_minor": 0,
 "worksheets": [
  {
   "cells": [
    {
     "cell_type": "code",
     "collapsed": false,
     "input": [
      "sets = [set({1}), set({6})]\n",
      "\n",
      "with open('./data/large/interactions.txt') as data: \n",
      "    data.readline()\n",
      "    for line in data:\n",
      "        temp = list(map(int, line.split()[2:4]))\n",
      "        for elt in sets:\n",
      "            if temp[0] in elt or temp[1] in elt:\n",
      "                elt.add(temp[0])\n",
      "                elt.add(temp[1])\n",
      "                break  \n",
      "                \n",
      "with open('./data/large/interactions.txt') as data:\n",
      "    data.readline()\n",
      "    for line in data:\n",
      "        temp = list(map(int, line.split()[2:4]))\n",
      "        for elt in sets:\n",
      "            if temp[0] in elt or temp[1] in elt:\n",
      "                elt.add(temp[0])\n",
      "                elt.add(temp[1])\n",
      "                break \n",
      "    \n",
      "    print ('Drawn clusters:')\n",
      "    set1 = {19, 37, 45, 10 ,8, 5, 15, 2, 17 ,31, 3, 18, 42, 30, 38, 12, 4, 40, 0, 14, 9, 1, 22, 25}\n",
      "    set2 = set(range(50))-set1\n",
      "    print (sorted(list(set1)))\n",
      "    print (sorted(list(set2)))\n",
      "    \n",
      "    print ('Found clusters:')\n",
      "    for elt in sets:\n",
      "        print (sorted(list(elt)))"
     ],
     "language": "python",
     "metadata": {},
     "outputs": [
      {
       "output_type": "stream",
       "stream": "stdout",
       "text": [
        "Drawn clusters:\n",
        "[0, 1, 2, 3, 4, 5, 8, 9, 10, 12, 14, 15, 17, 18, 19, 22, 25, 30, 31, 37, 38, 40, 42, 45]\n",
        "[6, 7, 11, 13, 16, 20, 21, 23, 24, 26, 27, 28, 29, 32, 33, 34, 35, 36, 39, 41, 43, 44, 46, 47, 48, 49]\n",
        "Found clusters:\n",
        "[0, 1, 2, 3, 4, 5, 8, 9, 10, 12, 14, 15, 17, 18, 19, 22, 25, 30, 31, 37, 38, 40, 42, 45]\n",
        "[6, 7, 11, 13, 16, 20, 21, 23, 24, 26, 27, 28, 29, 32, 33, 34, 35, 36, 39, 41, 43, 44, 46, 47, 48, 49]\n"
       ]
      }
     ],
     "prompt_number": 7
    }
   ],
   "metadata": {}
  }
 ]
}